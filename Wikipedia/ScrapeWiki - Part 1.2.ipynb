{
 "cells": [
  {
   "cell_type": "code",
   "execution_count": 1,
   "id": "eb59ce3a",
   "metadata": {},
   "outputs": [],
   "source": [
    "import pickle \n",
    "\n",
    "with open('wikidicts.pkl', 'rb') as f:\n",
    "    page_results, no_page_results, icd_redirect = pickle.load(f)"
   ]
  },
  {
   "cell_type": "code",
   "execution_count": 4,
   "id": "e81365ce",
   "metadata": {},
   "outputs": [
    {
     "data": {
      "text/plain": [
       "{'197.2': 'Secondary malignant neoplasm of pleura',\n",
       " '250.00': 'type II diabetes mellitus [non-insulin dependent type] [NIDDM type] [adult-onset type] or unspecified type, not stated as uncontrolled, without mention of complication',\n",
       " '274.9': 'Gout, unspecified',\n",
       " '276.1': 'Hyposmolality and/or hyponatremia',\n",
       " '284.8': 'Other specified aplastic anemias',\n",
       " '336.3': 'Myelopathy in other diseases classified elsewhere',\n",
       " '343.8': 'Other specified infantile cerebral palsy',\n",
       " '403.90': 'Hypertensive renal disease, unspecified, without mention of renal failure',\n",
       " '410.71': 'Acute myocardial infarction, subendocardial infarction, initial episode of care',\n",
       " '414.00': 'Coronary atherosclerosis of unspecified type of vessel, native or graft',\n",
       " '415.11': 'Iatrogenic pulmonary embolism and infarction',\n",
       " '427.5': 'Cardiac arrest',\n",
       " '427.89': 'Other specified cardiac dysrhythmias',\n",
       " '438.89': 'Other late effects of cerebrovascular disease',\n",
       " '493.90': 'Asthma, unspecified type, without mention of status asthmaticus',\n",
       " '507.0': 'Pneumonitis due to inhalation of food or vomitus',\n",
       " '536.2': 'Persistent vomiting',\n",
       " '560.81': 'Intestinal or peritoneal adhesions with obstruction [postoperative] [postinfection]',\n",
       " '564.89': 'Other functional disorders of intestine',\n",
       " '577.8': 'Other specified diseases of pancreas',\n",
       " '599.0': 'Urinary tract infection, site not specified',\n",
       " '729.89': 'Other musculoskeletal symptoms referable to limbs',\n",
       " '741.00': 'With hydrocephalus, spina bifida, unspecified region',\n",
       " '765.02': 'Extreme immaturity, 500-749 grams',\n",
       " '765.03': 'Extreme immaturity, 750-999 grams',\n",
       " '765.15': 'Other preterm infants, 1,250-1,499 grams',\n",
       " '765.16': 'Other preterm infants, 1,500-1,749 grams',\n",
       " '765.17': 'Other preterm infants, 1,750-1,999 grams',\n",
       " '765.18': 'Other preterm infants, 2,000-2,499 grams',\n",
       " '765.26': '31-32 completed weeks of gestation',\n",
       " '765.28': '35-36 completed weeks of gestation',\n",
       " '766.1': 'Other \"heavy-for-dates\" infants',\n",
       " '770.6': 'Transitory tachypnea of newborn',\n",
       " '770.82': 'Other apnea of newborn',\n",
       " '771.8': 'Other infection specific to the perinatal period',\n",
       " '771.82': 'Urinary tract infection of newborn',\n",
       " '772.8': 'Other specified hemorrhage of fetus or newborn',\n",
       " '774.2': 'Neonatal jaundice associated with preterm delivery',\n",
       " '774.6': 'Unspecified fetal and neonatal jaundice',\n",
       " '775.5': 'Other transitory neonatal electrolyte disturbances',\n",
       " '777.4': 'Transitory ileus of newborn',\n",
       " '779.3': 'Feeding problems in newborn',\n",
       " '779.89': 'Other specified conditions originating in the perinatal period',\n",
       " '861.32': 'Laceration of lung with open wound into thorax',\n",
       " '909.2': 'Late effect of radiation',\n",
       " '998.11': 'Hemorrhage complicating a procedure',\n",
       " '998.12': 'Hematoma complicating a procedure',\n",
       " '998.31': 'Disruption of internal operation wound',\n",
       " '998.59': 'Other postoperative infection',\n",
       " 'E878.2': 'Surgical operation with anastomosis, bypass, or graft, with natural or artificial tissues used as implant causing abnormal patient reaction, or later complication, without mention of misadventure at time of operation',\n",
       " 'V17.49': 'Family history of other cardiovascular diseases',\n",
       " 'V20.2': 'Routine infant or child health check',\n",
       " 'V27.0': 'Mother with single liveborn',\n",
       " 'V27.2': 'Mother with twins, both liveborn',\n",
       " 'V30.00': 'Single liveborn, born in hospital, delivered without mention of cesarean section',\n",
       " 'V30.01': 'Single liveborn, born in hospital, delivered by cesarean section',\n",
       " 'V45.81': 'Postsurgical aortocoronary bypass status',\n",
       " 'V45.82': 'Percutaneous transluminal coronary angioplasty, postsurgical status',\n",
       " 'V72.1': 'Examination of ears and hearing',\n",
       " '038.9': 'Unspecified septicemia',\n",
       " '244.9': 'Unspecified hypothyroidism',\n",
       " '263.9': 'Unspecified protein-calorie malnutrition',\n",
       " '272.0': 'Pure hypercholesterolemia',\n",
       " '272.4': 'Other and unspecified hyperlipidemia',\n",
       " '285.9': 'Anemia, unspecified',\n",
       " '287.5': 'Thrombocytopenia, unspecified',\n",
       " '300.00': 'Anxiety state, unspecified',\n",
       " '366.9': 'Unspecified cataract',\n",
       " '403.91': 'Hypertensive renal disease, unspecified, with renal failure',\n",
       " '428.0': 'Congestive heart failure, unspecified',\n",
       " '443.9': 'Peripheral vascular disease, unspecified',\n",
       " '458.9': 'Hypotension, unspecified',\n",
       " '459.0': 'Hemorrhage, unspecified',\n",
       " '515': 'Postinflammatory pulmonary fibrosis',\n",
       " '568.81': 'Hemoperitoneum (nontraumatic)',\n",
       " '578.9': 'Hemorrhage of gastrointestinal tract, unspecified',\n",
       " '642.33': 'Transient hypertension of pregnancy, antepartum',\n",
       " '644.21': 'Early onset of delivery, delivered, with or without mention of antepartum condition',\n",
       " '648.91': 'Other current conditions classifiable elsewhere of mother, with delivery',\n",
       " '772.10': 'Intraventricular hemorrhage, unspecified grade',\n",
       " '775.9': 'Unspecified endocrine and metabolic disturbances specific to the fetus and newborn',\n",
       " '778.4': 'Other disturbances of temperature regulation of newborn',\n",
       " 'E878.8': 'Other specified surgical operations and procedures causing abnormal patient reaction, or later complication, without mention of misadventure at time of operation',\n",
       " 'E879.8': 'Other specified procedures as the cause of abnormal reaction of patient, or of later complication, without mention of misadventure at time of procedure',\n",
       " 'E942.9': 'Other and unspecified agents primarily affecting the cardiovascular system causing adverse effects in therapeutic use',\n",
       " 'V29.8': 'Observation for other specified suspected condition'}"
      ]
     },
     "execution_count": 4,
     "metadata": {},
     "output_type": "execute_result"
    }
   ],
   "source": [
    "# Now, deal with icd9 codes we didn't find wiki results for\n",
    "combined = no_page_results | icd_redirect\n",
    "no_results = dict()\n",
    "\n",
    "for k in combined.keys():\n",
    "    i = k.index(':')\n",
    "    icd9 = k[:i].replace('Redirect for ', '')\n",
    "    s = k[i+2:]\n",
    "    no_results[icd9] = s\n",
    "    \n",
    "no_results"
   ]
  },
  {
   "cell_type": "code",
   "execution_count": 5,
   "id": "cc0adaaf",
   "metadata": {},
   "outputs": [],
   "source": [
    "import json \n",
    "\n",
    "# Convert and write JSON object to file\n",
    "with open(\"no_results.json\", \"w\") as outfile: \n",
    "    json.dump(no_results, outfile)"
   ]
  },
  {
   "cell_type": "code",
   "execution_count": null,
   "id": "583dbeb2",
   "metadata": {},
   "outputs": [],
   "source": []
  }
 ],
 "metadata": {
  "kernelspec": {
   "display_name": "Python 3 (ipykernel)",
   "language": "python",
   "name": "python3"
  },
  "language_info": {
   "codemirror_mode": {
    "name": "ipython",
    "version": 3
   },
   "file_extension": ".py",
   "mimetype": "text/x-python",
   "name": "python",
   "nbconvert_exporter": "python",
   "pygments_lexer": "ipython3",
   "version": "3.10.9"
  }
 },
 "nbformat": 4,
 "nbformat_minor": 5
}
