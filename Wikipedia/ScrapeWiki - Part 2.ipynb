{
 "cells": [
  {
   "cell_type": "code",
   "execution_count": 1,
   "id": "01a54bc7",
   "metadata": {},
   "outputs": [],
   "source": [
    "import pickle \n",
    "\n",
    "with open('wikidicts.pkl', 'rb') as f:\n",
    "    page_results, no_page_results, icd_redirect = pickle.load(f)"
   ]
  },
  {
   "cell_type": "code",
   "execution_count": 2,
   "id": "5802ceef",
   "metadata": {},
   "outputs": [],
   "source": [
    "import json\n",
    " \n",
    "# Opening JSON file\n",
    "with open('modified_no_results.json') as f:\n",
    "    mod_no_results = json.load(f)"
   ]
  },
  {
   "cell_type": "code",
   "execution_count": 3,
   "id": "0e5b0eb5",
   "metadata": {
    "scrolled": true
   },
   "outputs": [
    {
     "name": "stdout",
     "output_type": "stream",
     "text": [
      "Requirement already satisfied: wikipedia in /home/cogems_nist/anaconda3/lib/python3.10/site-packages (1.4.0)\r\n",
      "Requirement already satisfied: beautifulsoup4 in /home/cogems_nist/anaconda3/lib/python3.10/site-packages (from wikipedia) (4.11.1)\r\n",
      "Requirement already satisfied: requests<3.0.0,>=2.0.0 in /home/cogems_nist/anaconda3/lib/python3.10/site-packages (from wikipedia) (2.28.1)\r\n",
      "Requirement already satisfied: certifi>=2017.4.17 in /home/cogems_nist/anaconda3/lib/python3.10/site-packages (from requests<3.0.0,>=2.0.0->wikipedia) (2022.12.7)\r\n",
      "Requirement already satisfied: charset-normalizer<3,>=2 in /home/cogems_nist/anaconda3/lib/python3.10/site-packages (from requests<3.0.0,>=2.0.0->wikipedia) (2.0.4)\r\n",
      "Requirement already satisfied: idna<4,>=2.5 in /home/cogems_nist/anaconda3/lib/python3.10/site-packages (from requests<3.0.0,>=2.0.0->wikipedia) (3.4)\r\n",
      "Requirement already satisfied: urllib3<1.27,>=1.21.1 in /home/cogems_nist/anaconda3/lib/python3.10/site-packages (from requests<3.0.0,>=2.0.0->wikipedia) (1.26.14)\r\n",
      "Requirement already satisfied: soupsieve>1.2 in /home/cogems_nist/anaconda3/lib/python3.10/site-packages (from beautifulsoup4->wikipedia) (2.3.2.post1)\r\n"
     ]
    }
   ],
   "source": [
    "import sys\n",
    "!{sys.executable} -m pip install wikipedia\n",
    "\n",
    "import wikipedia as wiki\n"
   ]
  },
  {
   "cell_type": "code",
   "execution_count": 7,
   "id": "32bfbc7b",
   "metadata": {
    "scrolled": true
   },
   "outputs": [
    {
     "name": "stdout",
     "output_type": "stream",
     "text": [
      "searching Secondary malignant neoplasm\n",
      "searching type II diabetes mellitus\n",
      "searching Gout\n",
      "searching Hyponatremia\n",
      "searching Aplastic anemia\n",
      "searching Myelopathy\n",
      "searching Cerebral palsy\n",
      "searching Hypertensive kidney disease\n",
      "searching Acute myocardial infarction\n",
      "searching Coronary atherosclerosis\n",
      "searching Pulmonary embolism\n",
      "searching Cardiac Arrest\n",
      "!!No results found for 427.5: Cardiac Arrest\n",
      "searching Cardiac dysrhythmias\n",
      "searching Cerebrovascular disease\n",
      "searching Asthma\n",
      "searching Pulmonary aspiration\n",
      "searching Vomiting\n",
      "searching Abdominal Adhesions\n",
      "searching Functional gastrointestinal disorder\n",
      "searching Pancreatic disease\n",
      "searching Urinary tract infection\n",
      "searching Musculoskeletal injury\n",
      "searching spina bifida\n",
      "searching Preterm birth\n",
      "searching Preterm birth\n",
      "searching Preterm birth\n",
      "searching Preterm birth\n",
      "searching Preterm birth\n",
      "searching Preterm birth\n",
      "searching Preterm birth\n",
      "searching Preterm birth\n",
      "searching Large for gestational age\n",
      "searching Transient tachypnea of the newborn\n",
      "searching Apnea of prematurity\n",
      "searching Perinatal infection\n",
      "searching Urinary tract infection\n",
      "searching Hemorrhagic disease of the newborn\n",
      "searching Neonatal jaundice\n",
      "searching Neonatal jaundice\n",
      "searching Hyponatremia\n",
      "searching Neonatal bowel obstruction\n",
      "searching Infant feeding\n",
      "searching Complications of pregnancy\n",
      "searching Pulmonary laceration\n",
      "searching Acute radiation syndrome\n",
      "searching Hemorrhage\n",
      "searching Hematoma\n",
      "searching Emergency bleeding control\n",
      "searching Post-operative infection\n",
      "searching Transplant rejection\n",
      "searching Coronary artery bypass surgery\n",
      "searching Percutaneous transluminal coronary angioplasty\n",
      "searching Septicemia\n",
      "searching Hypothyroidism\n",
      "searching Protein-calorie malnutrition\n",
      "searching Hypercholesterolemia\n",
      "searching Hyperlipidemia\n",
      "searching Anemia\n",
      "!!Searching is too ambiguous for 285.9: Anemia\n",
      "searching Thrombocytopenia\n",
      "searching Anxiety state\n",
      "searching Cataract\n",
      "!!No results found for 366.9: Cataract\n",
      "searching Hypertensive renal disease\n",
      "searching Congestive heart failure\n",
      "searching Peripheral vascular disease\n",
      "searching Hypotension\n",
      "searching Hemorrhage\n",
      "searching Pulmonary fibrosis\n",
      "searching Hemoperitoneum\n",
      "searching Gastrointestinal bleeding\n",
      "searching Hypertensive disease of pregnancy\n",
      "searching Preterm birth\n",
      "searching Complications of pregnancy\n",
      "searching Intraventricular hemorrhage\n",
      "searching Complications of pregnancy\n",
      "searching Adaptation to extrauterine life\n",
      "searching Surgery\n",
      "searching Surgery\n",
      "searching cardiovascular disease\n"
     ]
    }
   ],
   "source": [
    "# get content for pages we didn't find first time\n",
    "\n",
    "new_results = dict()\n",
    "no_page_results = dict()\n",
    "icd_redirect = dict()\n",
    "\n",
    "for code, search_term in mod_no_results.items():\n",
    "    print(\"searching\", search_term)\n",
    "    try:\n",
    "        # get page \n",
    "        page = wiki.page(search_term)\n",
    "        if \"List of ICD-9 codes\" in page.title:\n",
    "            icd_redirect[f'Redirect for {code}: {search_term}'] = ''\n",
    "            print(f'!!ICD redirect for {code}: {search_term}')\n",
    "        else:\n",
    "            new_results[f'{code}: {search_term}: {page.title}'] = page.content\n",
    "\n",
    "    except wiki.exceptions.PageError:\n",
    "        no_page_results[f'{code}: {search_term}'] = ''\n",
    "        print(f'!!No results found for {code}: {search_term}')\n",
    "    \n",
    "    except wiki.exceptions.DisambiguationError:\n",
    "        no_page_results[f'{code}: {search_term}'] = ''\n",
    "        print(f'!!Searching is too ambiguous for {code}: {search_term}')"
   ]
  },
  {
   "cell_type": "code",
   "execution_count": 8,
   "id": "945a750f",
   "metadata": {
    "scrolled": false
   },
   "outputs": [],
   "source": [
    "# get cardiac arrest page - have no idea why it is not searching\n",
    "code = \"427.5\"\n",
    "search_term = \"Cardiac Arrest\"\n",
    "page = wiki.page(pageid=60575)\n",
    "new_results[f'{code}: {search_term}: {page.title}'] = page.content\n",
    "\n",
    "# get Anemia\n",
    "code = \"285.9\"\n",
    "search_term = \"Anemia\"\n",
    "page = wiki.page(pageid=83537)\n",
    "new_results[f'{code}: {search_term}: {page.title}'] = page.content"
   ]
  },
  {
   "cell_type": "code",
   "execution_count": 9,
   "id": "193b49e8",
   "metadata": {},
   "outputs": [],
   "source": [
    "final_wikidict = page_results | new_results\n",
    "\n",
    "# save data\n",
    "import pickle\n",
    "import json\n",
    "\n",
    "with open('finalwikidict.pkl', 'wb') as f:\n",
    "    pickle.dump(final_wikidict, f)\n",
    "\n",
    "with open('finalwikidict.json', 'w') as f:\n",
    "    json.dump(final_wikidict, f)"
   ]
  },
  {
   "cell_type": "code",
   "execution_count": null,
   "id": "d2ab3694",
   "metadata": {},
   "outputs": [],
   "source": []
  }
 ],
 "metadata": {
  "kernelspec": {
   "display_name": "Python 3 (ipykernel)",
   "language": "python",
   "name": "python3"
  },
  "language_info": {
   "codemirror_mode": {
    "name": "ipython",
    "version": 3
   },
   "file_extension": ".py",
   "mimetype": "text/x-python",
   "name": "python",
   "nbconvert_exporter": "python",
   "pygments_lexer": "ipython3",
   "version": "3.10.9"
  }
 },
 "nbformat": 4,
 "nbformat_minor": 5
}
